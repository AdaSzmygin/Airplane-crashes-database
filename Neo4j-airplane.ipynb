{
 "cells": [
  {
   "cell_type": "code",
   "execution_count": 3,
   "id": "9a96daf2",
   "metadata": {},
   "outputs": [],
   "source": [
    "from neo4j import GraphDatabase\n",
    "import pandas as pd\n",
    "import pprint"
   ]
  },
  {
   "cell_type": "code",
   "execution_count": 4,
   "id": "ecbddb9c",
   "metadata": {},
   "outputs": [],
   "source": [
    "graphdb = GraphDatabase.driver(uri = 'bolt://localhost:7687', auth=('neo4j', 'haslo'))"
   ]
  },
  {
   "cell_type": "code",
   "execution_count": 5,
   "id": "5c4484a8",
   "metadata": {},
   "outputs": [
    {
     "data": {
      "text/plain": [
       "<neo4j._sync.work.session.Session at 0x1a5b25b9420>"
      ]
     },
     "execution_count": 5,
     "metadata": {},
     "output_type": "execute_result"
    }
   ],
   "source": [
    "session = graphdb.session()\n",
    "session"
   ]
  },
  {
   "cell_type": "code",
   "execution_count": 8,
   "id": "2867df4a",
   "metadata": {},
   "outputs": [],
   "source": [
    "path = r'C:\\projects\\Neo4j'"
   ]
  },
  {
   "cell_type": "code",
   "execution_count": 9,
   "id": "3ae3aaf9",
   "metadata": {
    "scrolled": true
   },
   "outputs": [
    {
     "data": {
      "text/html": [
       "<div>\n",
       "<style scoped>\n",
       "    .dataframe tbody tr th:only-of-type {\n",
       "        vertical-align: middle;\n",
       "    }\n",
       "\n",
       "    .dataframe tbody tr th {\n",
       "        vertical-align: top;\n",
       "    }\n",
       "\n",
       "    .dataframe thead th {\n",
       "        text-align: right;\n",
       "    }\n",
       "</style>\n",
       "<table border=\"1\" class=\"dataframe\">\n",
       "  <thead>\n",
       "    <tr style=\"text-align: right;\">\n",
       "      <th></th>\n",
       "      <th>Date</th>\n",
       "      <th>Time</th>\n",
       "      <th>Location</th>\n",
       "      <th>Operator</th>\n",
       "      <th>Flight #</th>\n",
       "      <th>Route</th>\n",
       "      <th>AC Type</th>\n",
       "      <th>Registration</th>\n",
       "      <th>cn/ln</th>\n",
       "      <th>Aboard</th>\n",
       "      <th>Aboard Passangers</th>\n",
       "      <th>Aboard Crew</th>\n",
       "      <th>Fatalities</th>\n",
       "      <th>Fatalities Passangers</th>\n",
       "      <th>Fatalities Crew</th>\n",
       "      <th>Ground</th>\n",
       "      <th>Summary</th>\n",
       "    </tr>\n",
       "  </thead>\n",
       "  <tbody>\n",
       "    <tr>\n",
       "      <th>0</th>\n",
       "      <td>09/17/1908</td>\n",
       "      <td>17:18</td>\n",
       "      <td>Fort Myer, Virginia</td>\n",
       "      <td>Military - U.S. Army</td>\n",
       "      <td>NaN</td>\n",
       "      <td>Demonstration</td>\n",
       "      <td>Wright Flyer III</td>\n",
       "      <td>NaN</td>\n",
       "      <td>1</td>\n",
       "      <td>2.0</td>\n",
       "      <td>1.0</td>\n",
       "      <td>1.0</td>\n",
       "      <td>1.0</td>\n",
       "      <td>1.0</td>\n",
       "      <td>0.0</td>\n",
       "      <td>0.0</td>\n",
       "      <td>During a demonstration flight, a U.S. Army fly...</td>\n",
       "    </tr>\n",
       "    <tr>\n",
       "      <th>1</th>\n",
       "      <td>09/07/1909</td>\n",
       "      <td>NaN</td>\n",
       "      <td>Juvisy-sur-Orge, France</td>\n",
       "      <td>NaN</td>\n",
       "      <td>NaN</td>\n",
       "      <td>Air show</td>\n",
       "      <td>Wright Byplane</td>\n",
       "      <td>SC1</td>\n",
       "      <td>NaN</td>\n",
       "      <td>1.0</td>\n",
       "      <td>0.0</td>\n",
       "      <td>1.0</td>\n",
       "      <td>1.0</td>\n",
       "      <td>0.0</td>\n",
       "      <td>0.0</td>\n",
       "      <td>0.0</td>\n",
       "      <td>Eugene Lefebvre was the first pilot to ever be...</td>\n",
       "    </tr>\n",
       "    <tr>\n",
       "      <th>2</th>\n",
       "      <td>07/12/1912</td>\n",
       "      <td>06:30</td>\n",
       "      <td>Atlantic City, New Jersey</td>\n",
       "      <td>Military - U.S. Navy</td>\n",
       "      <td>NaN</td>\n",
       "      <td>Test flight</td>\n",
       "      <td>Dirigible</td>\n",
       "      <td>NaN</td>\n",
       "      <td>NaN</td>\n",
       "      <td>5.0</td>\n",
       "      <td>0.0</td>\n",
       "      <td>5.0</td>\n",
       "      <td>5.0</td>\n",
       "      <td>0.0</td>\n",
       "      <td>5.0</td>\n",
       "      <td>0.0</td>\n",
       "      <td>First U.S. dirigible Akron exploded just offsh...</td>\n",
       "    </tr>\n",
       "    <tr>\n",
       "      <th>3</th>\n",
       "      <td>08/06/1913</td>\n",
       "      <td>NaN</td>\n",
       "      <td>Victoria, British Columbia, Canada</td>\n",
       "      <td>Private</td>\n",
       "      <td>NaN</td>\n",
       "      <td>NaN</td>\n",
       "      <td>Curtiss seaplane</td>\n",
       "      <td>NaN</td>\n",
       "      <td>NaN</td>\n",
       "      <td>1.0</td>\n",
       "      <td>0.0</td>\n",
       "      <td>1.0</td>\n",
       "      <td>1.0</td>\n",
       "      <td>0.0</td>\n",
       "      <td>1.0</td>\n",
       "      <td>0.0</td>\n",
       "      <td>The first fatal airplane accident in Canada oc...</td>\n",
       "    </tr>\n",
       "    <tr>\n",
       "      <th>4</th>\n",
       "      <td>09/09/1913</td>\n",
       "      <td>18:30</td>\n",
       "      <td>Over the North Sea</td>\n",
       "      <td>Military - German Navy</td>\n",
       "      <td>NaN</td>\n",
       "      <td>NaN</td>\n",
       "      <td>Zeppelin L-1 (airship)</td>\n",
       "      <td>NaN</td>\n",
       "      <td>NaN</td>\n",
       "      <td>20.0</td>\n",
       "      <td>NaN</td>\n",
       "      <td>NaN</td>\n",
       "      <td>14.0</td>\n",
       "      <td>NaN</td>\n",
       "      <td>NaN</td>\n",
       "      <td>0.0</td>\n",
       "      <td>The airship flew into a thunderstorm and encou...</td>\n",
       "    </tr>\n",
       "    <tr>\n",
       "      <th>...</th>\n",
       "      <td>...</td>\n",
       "      <td>...</td>\n",
       "      <td>...</td>\n",
       "      <td>...</td>\n",
       "      <td>...</td>\n",
       "      <td>...</td>\n",
       "      <td>...</td>\n",
       "      <td>...</td>\n",
       "      <td>...</td>\n",
       "      <td>...</td>\n",
       "      <td>...</td>\n",
       "      <td>...</td>\n",
       "      <td>...</td>\n",
       "      <td>...</td>\n",
       "      <td>...</td>\n",
       "      <td>...</td>\n",
       "      <td>...</td>\n",
       "    </tr>\n",
       "    <tr>\n",
       "      <th>4962</th>\n",
       "      <td>04/16/2019</td>\n",
       "      <td>11:00</td>\n",
       "      <td>Puerto Montt, Chile</td>\n",
       "      <td>Archipelagos Service Aereos</td>\n",
       "      <td>NaN</td>\n",
       "      <td>Puerto Montt - Ayacara</td>\n",
       "      <td>Pilatus-Britten Norman BN-2B-27 Islander</td>\n",
       "      <td>CC-CYR</td>\n",
       "      <td>2169</td>\n",
       "      <td>6.0</td>\n",
       "      <td>5.0</td>\n",
       "      <td>1.0</td>\n",
       "      <td>6.0</td>\n",
       "      <td>5.0</td>\n",
       "      <td>1.0</td>\n",
       "      <td>0.0</td>\n",
       "      <td>While the aircraft was in the initial climb, p...</td>\n",
       "    </tr>\n",
       "    <tr>\n",
       "      <th>4963</th>\n",
       "      <td>05/05/2019</td>\n",
       "      <td>18:30</td>\n",
       "      <td>Near Monclava, Mexico</td>\n",
       "      <td>TVPX Aircraft Solutions</td>\n",
       "      <td>NaN</td>\n",
       "      <td>Las Vegas - Monterrey</td>\n",
       "      <td>Canadair CL-600-2B16-Challenger</td>\n",
       "      <td>N601VH</td>\n",
       "      <td>5043</td>\n",
       "      <td>13.0</td>\n",
       "      <td>11.0</td>\n",
       "      <td>2.0</td>\n",
       "      <td>13.0</td>\n",
       "      <td>11.0</td>\n",
       "      <td>2.0</td>\n",
       "      <td>0.0</td>\n",
       "      <td>The aircraft crashed while en route on a retur...</td>\n",
       "    </tr>\n",
       "    <tr>\n",
       "      <th>4964</th>\n",
       "      <td>05/05/2019</td>\n",
       "      <td>18:30</td>\n",
       "      <td>Moscow, Russia</td>\n",
       "      <td>Aeroflot Russian International Airlines</td>\n",
       "      <td>NaN</td>\n",
       "      <td>Moscow - Murmansk</td>\n",
       "      <td>Sukhoi Superjet-100-95B</td>\n",
       "      <td>RA-89098</td>\n",
       "      <td>95135</td>\n",
       "      <td>78.0</td>\n",
       "      <td>73.0</td>\n",
       "      <td>5.0</td>\n",
       "      <td>41.0</td>\n",
       "      <td>40.0</td>\n",
       "      <td>1.0</td>\n",
       "      <td>0.0</td>\n",
       "      <td>Forty-five minutes after taking off from Mosco...</td>\n",
       "    </tr>\n",
       "    <tr>\n",
       "      <th>4965</th>\n",
       "      <td>06/03/2019</td>\n",
       "      <td>13:00</td>\n",
       "      <td>Near Lipo, India</td>\n",
       "      <td>Military - Indian Air Force</td>\n",
       "      <td>NaN</td>\n",
       "      <td>Jorhat-Rowriah - Mechuka</td>\n",
       "      <td>Antonov An-32</td>\n",
       "      <td>K2752</td>\n",
       "      <td>1009</td>\n",
       "      <td>13.0</td>\n",
       "      <td>5.0</td>\n",
       "      <td>8.0</td>\n",
       "      <td>13.0</td>\n",
       "      <td>5.0</td>\n",
       "      <td>8.0</td>\n",
       "      <td>0.0</td>\n",
       "      <td>Crashed about 34km WNW of Mechuka.</td>\n",
       "    </tr>\n",
       "    <tr>\n",
       "      <th>4966</th>\n",
       "      <td>07/30/2019</td>\n",
       "      <td>02:00</td>\n",
       "      <td>Rawalpindi, India</td>\n",
       "      <td>Military - Pakistan Army</td>\n",
       "      <td>NaN</td>\n",
       "      <td>Training</td>\n",
       "      <td>Beechcraft B300 King Air</td>\n",
       "      <td>766</td>\n",
       "      <td>B766</td>\n",
       "      <td>5.0</td>\n",
       "      <td>0.0</td>\n",
       "      <td>5.0</td>\n",
       "      <td>5.0</td>\n",
       "      <td>0.0</td>\n",
       "      <td>5.0</td>\n",
       "      <td>14.0</td>\n",
       "      <td>The Pakistani military plane, on a training fl...</td>\n",
       "    </tr>\n",
       "  </tbody>\n",
       "</table>\n",
       "<p>4967 rows × 17 columns</p>\n",
       "</div>"
      ],
      "text/plain": [
       "            Date   Time                            Location  \\\n",
       "0     09/17/1908  17:18                 Fort Myer, Virginia   \n",
       "1     09/07/1909    NaN             Juvisy-sur-Orge, France   \n",
       "2     07/12/1912  06:30           Atlantic City, New Jersey   \n",
       "3     08/06/1913    NaN  Victoria, British Columbia, Canada   \n",
       "4     09/09/1913  18:30                  Over the North Sea   \n",
       "...          ...    ...                                 ...   \n",
       "4962  04/16/2019  11:00                 Puerto Montt, Chile   \n",
       "4963  05/05/2019  18:30               Near Monclava, Mexico   \n",
       "4964  05/05/2019  18:30                      Moscow, Russia   \n",
       "4965  06/03/2019  13:00                    Near Lipo, India   \n",
       "4966  07/30/2019  02:00                   Rawalpindi, India   \n",
       "\n",
       "                                     Operator Flight #  \\\n",
       "0                        Military - U.S. Army      NaN   \n",
       "1                                         NaN      NaN   \n",
       "2                        Military - U.S. Navy      NaN   \n",
       "3                                     Private      NaN   \n",
       "4                      Military - German Navy      NaN   \n",
       "...                                       ...      ...   \n",
       "4962              Archipelagos Service Aereos      NaN   \n",
       "4963                  TVPX Aircraft Solutions      NaN   \n",
       "4964  Aeroflot Russian International Airlines      NaN   \n",
       "4965              Military - Indian Air Force      NaN   \n",
       "4966                 Military - Pakistan Army      NaN   \n",
       "\n",
       "                          Route                                   AC Type  \\\n",
       "0                 Demonstration                          Wright Flyer III   \n",
       "1                      Air show                            Wright Byplane   \n",
       "2                   Test flight                                 Dirigible   \n",
       "3                           NaN                          Curtiss seaplane   \n",
       "4                           NaN                    Zeppelin L-1 (airship)   \n",
       "...                         ...                                       ...   \n",
       "4962     Puerto Montt - Ayacara  Pilatus-Britten Norman BN-2B-27 Islander   \n",
       "4963      Las Vegas - Monterrey           Canadair CL-600-2B16-Challenger   \n",
       "4964          Moscow - Murmansk                   Sukhoi Superjet-100-95B   \n",
       "4965   Jorhat-Rowriah - Mechuka                             Antonov An-32   \n",
       "4966                   Training                  Beechcraft B300 King Air   \n",
       "\n",
       "     Registration  cn/ln  Aboard  Aboard Passangers  Aboard Crew  Fatalities  \\\n",
       "0             NaN      1     2.0                1.0          1.0         1.0   \n",
       "1             SC1    NaN     1.0                0.0          1.0         1.0   \n",
       "2             NaN    NaN     5.0                0.0          5.0         5.0   \n",
       "3             NaN    NaN     1.0                0.0          1.0         1.0   \n",
       "4             NaN    NaN    20.0                NaN          NaN        14.0   \n",
       "...           ...    ...     ...                ...          ...         ...   \n",
       "4962      CC-CYR    2169     6.0                5.0          1.0         6.0   \n",
       "4963       N601VH   5043    13.0               11.0          2.0        13.0   \n",
       "4964    RA-89098   95135    78.0               73.0          5.0        41.0   \n",
       "4965        K2752   1009    13.0                5.0          8.0        13.0   \n",
       "4966          766   B766     5.0                0.0          5.0         5.0   \n",
       "\n",
       "      Fatalities Passangers  Fatalities Crew  Ground  \\\n",
       "0                       1.0              0.0     0.0   \n",
       "1                       0.0              0.0     0.0   \n",
       "2                       0.0              5.0     0.0   \n",
       "3                       0.0              1.0     0.0   \n",
       "4                       NaN              NaN     0.0   \n",
       "...                     ...              ...     ...   \n",
       "4962                    5.0              1.0     0.0   \n",
       "4963                   11.0              2.0     0.0   \n",
       "4964                   40.0              1.0     0.0   \n",
       "4965                    5.0              8.0     0.0   \n",
       "4966                    0.0              5.0    14.0   \n",
       "\n",
       "                                                Summary  \n",
       "0     During a demonstration flight, a U.S. Army fly...  \n",
       "1     Eugene Lefebvre was the first pilot to ever be...  \n",
       "2     First U.S. dirigible Akron exploded just offsh...  \n",
       "3     The first fatal airplane accident in Canada oc...  \n",
       "4     The airship flew into a thunderstorm and encou...  \n",
       "...                                                 ...  \n",
       "4962  While the aircraft was in the initial climb, p...  \n",
       "4963  The aircraft crashed while en route on a retur...  \n",
       "4964  Forty-five minutes after taking off from Mosco...  \n",
       "4965                 Crashed about 34km WNW of Mechuka.  \n",
       "4966  The Pakistani military plane, on a training fl...  \n",
       "\n",
       "[4967 rows x 17 columns]"
      ]
     },
     "execution_count": 9,
     "metadata": {},
     "output_type": "execute_result"
    }
   ],
   "source": [
    "df = pd.read_csv(path + r'\\Airplane_Crashes_and_Fatalities_Since_1908_20190820105639.csv')\n",
    "df"
   ]
  },
  {
   "cell_type": "code",
   "execution_count": 10,
   "id": "986be370",
   "metadata": {
    "scrolled": true
   },
   "outputs": [],
   "source": [
    "#replacing NaN with 0\n",
    "df.fillna(0,inplace=True)"
   ]
  },
  {
   "cell_type": "code",
   "execution_count": 12,
   "id": "ad9ca63c",
   "metadata": {},
   "outputs": [],
   "source": [
    "#removal \"\" from Summary\n",
    "for i, o in enumerate(df['Summary']):\n",
    "    if type(o) == str and '\"' in o:\n",
    "        df['Summary'][i] = df['Summary'][i].replace('\"','')"
   ]
  },
  {
   "cell_type": "code",
   "execution_count": 16,
   "id": "2b04b94a",
   "metadata": {
    "scrolled": true
   },
   "outputs": [],
   "source": [
    "#adding data\n",
    "list_op = []\n",
    "for i in range(len(df['Date'])):\n",
    "    q1 = 'create (s:airplane{registration:\"' +str(df['Registration'][i]) + '\", type:\"' +str(df['AC Type'][i])  +\n",
    "        '\", nr_structural:\"' +str(df['cn/ln'][i]) +'\", operator:\"'+ str(df['Operator'][i]) +'\", id:' + str(i) + '})'\n",
    "    session.run(q1)\n",
    "    \n",
    "    q2 = 'create (w:accident{place:\"' +str(df['Location'][i]) +'\", time:\"'+ str(df['Time'][i]) + \n",
    "        '\", date:\"' + str(df['Date'][i]) + '\", summary:\"' +str(df['Summary'][i]) +'\", id:' + str(i) + '})'\n",
    "    session.run(q2)\n",
    "    \n",
    "    q3 = 'create (l:flight{nr_flight:\"' +str(df['Flight #'][i]) +'\", route:\"'+ str(df['Route'][i]) +'\", id:' + str(i) + '})'\n",
    "    session.run(q3)\n",
    "    \n",
    "    q4 = 'create (n:aboard{passangers:' +str(df['Aboard Passangers'][i]) +', crew:'+ \n",
    "        str(df['Aboard Crew'][i]) + ', id:' + str(i) + '})'\n",
    "    session.run(q4)\n",
    "\n",
    "    q5 = 'create (z:died{fatalities_passangers:' +str(df['Fatalities Passangers'][i]) + ', fatalities_crew:' + \n",
    "        str(df['Fatalities Crew'][i]) + ', fatalities_ground:' +str(df['Ground'][i])+', id:' + str(i) + '})'\n",
    "    session.run(q5)\n",
    "    \n",
    "    #adding unique operator names\n",
    "    if df['Operator'][i] not in list_op:\n",
    "        list_op.append(df['Operator'][i])\n",
    "        q6 = 'create (o:operator{name:\"' +str(df['Operator'][i]) +'\", id:\"' + str(len(list_op)) + '\"})'\n",
    "        session.run(q6)"
   ]
  },
  {
   "cell_type": "code",
   "execution_count": 18,
   "id": "a69ec2e0",
   "metadata": {},
   "outputs": [
    {
     "data": {
      "text/plain": [
       "<neo4j._sync.work.result.Result at 0x1cbea72c460>"
      ]
     },
     "execution_count": 18,
     "metadata": {},
     "output_type": "execute_result"
    }
   ],
   "source": [
    "#connecting\n",
    "q7 = 'MATCH (w:accident) MATCH (s:airplane) WHERE w.id = s.id MERGE (s)-[:HAD_ACCIDENT]->(w)'\n",
    "session.run(q7) \n",
    "q8 = 'MATCH (l:flight) MATCH (s:airplane) WHERE l.id = s.id MERGE (s)-[:MADE_FLIGHT]->(l)'\n",
    "session.run(q8)\n",
    "q9 = 'MATCH (l:flight) MATCH (n:aboard) WHERE l.id = n.id MERGE (n)-[:WERE_FLYING]->(l)'\n",
    "session.run(q9)\n",
    "q10 = 'MATCH (l:flight) MATCH (z:died) WHERE l.id = z.id MERGE (z)-[:VICTIMS]->(l)'\n",
    "session.run(q10)\n",
    "q11 = 'MATCH (o:operator) MATCH (s:airplane) WHERE o.name = s.operator MERGE (s)-[:BELONGS_TO]->(o)'\n",
    "session.run(q11)"
   ]
  },
  {
   "cell_type": "code",
   "execution_count": 13,
   "id": "03db921e",
   "metadata": {
    "scrolled": true
   },
   "outputs": [
    {
     "data": {
      "text/html": [
       "<div>\n",
       "<style scoped>\n",
       "    .dataframe tbody tr th:only-of-type {\n",
       "        vertical-align: middle;\n",
       "    }\n",
       "\n",
       "    .dataframe tbody tr th {\n",
       "        vertical-align: top;\n",
       "    }\n",
       "\n",
       "    .dataframe thead th {\n",
       "        text-align: right;\n",
       "    }\n",
       "</style>\n",
       "<table border=\"1\" class=\"dataframe\">\n",
       "  <thead>\n",
       "    <tr style=\"text-align: right;\">\n",
       "      <th></th>\n",
       "      <th>Date</th>\n",
       "      <th>Airlane</th>\n",
       "      <th>Flight_number</th>\n",
       "      <th>Last_words</th>\n",
       "    </tr>\n",
       "  </thead>\n",
       "  <tbody>\n",
       "    <tr>\n",
       "      <th>0</th>\n",
       "      <td>07 Jul 1962</td>\n",
       "      <td>Alitalia</td>\n",
       "      <td>771</td>\n",
       "      <td>Unable to make out your last message, will you...</td>\n",
       "    </tr>\n",
       "    <tr>\n",
       "      <th>1</th>\n",
       "      <td>07 May 1964</td>\n",
       "      <td>Pacific Air Lines</td>\n",
       "      <td>773</td>\n",
       "      <td>Skipper's shot!  We've been shot. I was trying...</td>\n",
       "    </tr>\n",
       "    <tr>\n",
       "      <th>2</th>\n",
       "      <td>08 Nov 1965</td>\n",
       "      <td>American Airlines</td>\n",
       "      <td>383</td>\n",
       "      <td>Have you still got the runway OK? Ah .. just b...</td>\n",
       "    </tr>\n",
       "    <tr>\n",
       "      <th>3</th>\n",
       "      <td>30 Jun 1967</td>\n",
       "      <td>Thai International</td>\n",
       "      <td>601</td>\n",
       "      <td>I have no radar contact with you.</td>\n",
       "    </tr>\n",
       "    <tr>\n",
       "      <th>4</th>\n",
       "      <td>06 Nov 1967</td>\n",
       "      <td>Trans World Airlines</td>\n",
       "      <td>159</td>\n",
       "      <td>Not very # far off the runway. Sure as # isn't.</td>\n",
       "    </tr>\n",
       "    <tr>\n",
       "      <th>...</th>\n",
       "      <td>...</td>\n",
       "      <td>...</td>\n",
       "      <td>...</td>\n",
       "      <td>...</td>\n",
       "    </tr>\n",
       "    <tr>\n",
       "      <th>81</th>\n",
       "      <td>01 Jun 2009</td>\n",
       "      <td>Air France</td>\n",
       "      <td>447</td>\n",
       "      <td>Damn it, we're going to crash... This can't be...</td>\n",
       "    </tr>\n",
       "    <tr>\n",
       "      <th>82</th>\n",
       "      <td>17 JuL 2007</td>\n",
       "      <td>Tam</td>\n",
       "      <td>3054</td>\n",
       "      <td>Oh my god, oh my god</td>\n",
       "    </tr>\n",
       "    <tr>\n",
       "      <th>83</th>\n",
       "      <td>15 Jan 2009</td>\n",
       "      <td>US Airways</td>\n",
       "      <td>1549</td>\n",
       "      <td>We're gonna be in the Hudson.</td>\n",
       "    </tr>\n",
       "    <tr>\n",
       "      <th>84</th>\n",
       "      <td>12 Feb 2009</td>\n",
       "      <td>Continental Express</td>\n",
       "      <td>3407</td>\n",
       "      <td>We're down.</td>\n",
       "    </tr>\n",
       "    <tr>\n",
       "      <th>85</th>\n",
       "      <td>10 Apr 2010</td>\n",
       "      <td>Polish Air Force</td>\n",
       "      <td>1549</td>\n",
       "      <td>F*ckkkkkk</td>\n",
       "    </tr>\n",
       "  </tbody>\n",
       "</table>\n",
       "<p>86 rows × 4 columns</p>\n",
       "</div>"
      ],
      "text/plain": [
       "             Date               Airlane Flight_number  \\\n",
       "0     07 Jul 1962              Alitalia           771   \n",
       "1     07 May 1964     Pacific Air Lines           773   \n",
       "2     08 Nov 1965     American Airlines           383   \n",
       "3     30 Jun 1967    Thai International           601   \n",
       "4     06 Nov 1967  Trans World Airlines           159   \n",
       "..            ...                   ...           ...   \n",
       "81    01 Jun 2009            Air France           447   \n",
       "82    17 JuL 2007                   Tam          3054   \n",
       "83    15 Jan 2009            US Airways          1549   \n",
       "84    12 Feb 2009   Continental Express          3407   \n",
       "85    10 Apr 2010      Polish Air Force          1549   \n",
       "\n",
       "                                           Last_words  \n",
       "0   Unable to make out your last message, will you...  \n",
       "1   Skipper's shot!  We've been shot. I was trying...  \n",
       "2   Have you still got the runway OK? Ah .. just b...  \n",
       "3                   I have no radar contact with you.  \n",
       "4     Not very # far off the runway. Sure as # isn't.  \n",
       "..                                                ...  \n",
       "81  Damn it, we're going to crash... This can't be...  \n",
       "82                               Oh my god, oh my god  \n",
       "83                      We're gonna be in the Hudson.  \n",
       "84                                        We're down.  \n",
       "85                                          F*ckkkkkk  \n",
       "\n",
       "[86 rows x 4 columns]"
      ]
     },
     "execution_count": 13,
     "metadata": {},
     "output_type": "execute_result"
    }
   ],
   "source": [
    "#adding new data\n",
    "df_new = pd.read_csv(path + r'\\Last_worlds_2022_11_13.csv')\n",
    "df_new"
   ]
  },
  {
   "cell_type": "code",
   "execution_count": 14,
   "id": "1aa06f18",
   "metadata": {},
   "outputs": [],
   "source": [
    "dict_month = {'Jan': '01', 'Feb': '02', 'Mar': '03', 'Apr': '04', 'May': '05', 'Jun': '06', 'Jul': '07', 'Aug': '08', 'Sep': '09', 'Oct': '10', 'Nov': '11', 'Dec': '12'}"
   ]
  },
  {
   "cell_type": "code",
   "execution_count": 15,
   "id": "d35ba442",
   "metadata": {},
   "outputs": [],
   "source": [
    "data = []\n",
    "for i, d in enumerate(df_new['Date']):\n",
    "    dz = d.replace(' ', '')[:2]\n",
    "    m = d.replace(' ', '')[2:5]\n",
    "    r = d.replace(' ', '')[-4:]\n",
    "    if i == 19:   #exception, handled non-automatically\n",
    "        m = 'Nov'\n",
    "    m = m[0] + m[1:].lower()   #sometimes the second letter was capitalized\n",
    "    data.append(dict_month[m]+'/'+dz+'/'+r)"
   ]
  },
  {
   "cell_type": "code",
   "execution_count": 16,
   "id": "9ac0fb3d",
   "metadata": {},
   "outputs": [
    {
     "data": {
      "text/html": [
       "<div>\n",
       "<style scoped>\n",
       "    .dataframe tbody tr th:only-of-type {\n",
       "        vertical-align: middle;\n",
       "    }\n",
       "\n",
       "    .dataframe tbody tr th {\n",
       "        vertical-align: top;\n",
       "    }\n",
       "\n",
       "    .dataframe thead th {\n",
       "        text-align: right;\n",
       "    }\n",
       "</style>\n",
       "<table border=\"1\" class=\"dataframe\">\n",
       "  <thead>\n",
       "    <tr style=\"text-align: right;\">\n",
       "      <th></th>\n",
       "      <th>Date</th>\n",
       "      <th>Airlane</th>\n",
       "      <th>Flight_number</th>\n",
       "      <th>Last_words</th>\n",
       "    </tr>\n",
       "  </thead>\n",
       "  <tbody>\n",
       "    <tr>\n",
       "      <th>0</th>\n",
       "      <td>07/07/1962</td>\n",
       "      <td>Alitalia</td>\n",
       "      <td>771</td>\n",
       "      <td>Unable to make out your last message, will you...</td>\n",
       "    </tr>\n",
       "    <tr>\n",
       "      <th>1</th>\n",
       "      <td>05/07/1964</td>\n",
       "      <td>Pacific Air Lines</td>\n",
       "      <td>773</td>\n",
       "      <td>Skipper's shot!  We've been shot. I was trying...</td>\n",
       "    </tr>\n",
       "    <tr>\n",
       "      <th>2</th>\n",
       "      <td>11/08/1965</td>\n",
       "      <td>American Airlines</td>\n",
       "      <td>383</td>\n",
       "      <td>Have you still got the runway OK? Ah .. just b...</td>\n",
       "    </tr>\n",
       "    <tr>\n",
       "      <th>3</th>\n",
       "      <td>06/30/1967</td>\n",
       "      <td>Thai International</td>\n",
       "      <td>601</td>\n",
       "      <td>I have no radar contact with you.</td>\n",
       "    </tr>\n",
       "    <tr>\n",
       "      <th>4</th>\n",
       "      <td>11/06/1967</td>\n",
       "      <td>Trans World Airlines</td>\n",
       "      <td>159</td>\n",
       "      <td>Not very # far off the runway. Sure as # isn't.</td>\n",
       "    </tr>\n",
       "    <tr>\n",
       "      <th>...</th>\n",
       "      <td>...</td>\n",
       "      <td>...</td>\n",
       "      <td>...</td>\n",
       "      <td>...</td>\n",
       "    </tr>\n",
       "    <tr>\n",
       "      <th>81</th>\n",
       "      <td>06/01/2009</td>\n",
       "      <td>Air France</td>\n",
       "      <td>447</td>\n",
       "      <td>Damn it, we're going to crash... This can't be...</td>\n",
       "    </tr>\n",
       "    <tr>\n",
       "      <th>82</th>\n",
       "      <td>07/17/2007</td>\n",
       "      <td>Tam</td>\n",
       "      <td>3054</td>\n",
       "      <td>Oh my god, oh my god</td>\n",
       "    </tr>\n",
       "    <tr>\n",
       "      <th>83</th>\n",
       "      <td>01/15/2009</td>\n",
       "      <td>US Airways</td>\n",
       "      <td>1549</td>\n",
       "      <td>We're gonna be in the Hudson.</td>\n",
       "    </tr>\n",
       "    <tr>\n",
       "      <th>84</th>\n",
       "      <td>02/12/2009</td>\n",
       "      <td>Continental Express</td>\n",
       "      <td>3407</td>\n",
       "      <td>We're down.</td>\n",
       "    </tr>\n",
       "    <tr>\n",
       "      <th>85</th>\n",
       "      <td>04/10/2010</td>\n",
       "      <td>Polish Air Force</td>\n",
       "      <td>1549</td>\n",
       "      <td>F*ckkkkkk</td>\n",
       "    </tr>\n",
       "  </tbody>\n",
       "</table>\n",
       "<p>86 rows × 4 columns</p>\n",
       "</div>"
      ],
      "text/plain": [
       "          Date               Airlane Flight_number  \\\n",
       "0   07/07/1962              Alitalia           771   \n",
       "1   05/07/1964     Pacific Air Lines           773   \n",
       "2   11/08/1965     American Airlines           383   \n",
       "3   06/30/1967    Thai International           601   \n",
       "4   11/06/1967  Trans World Airlines           159   \n",
       "..         ...                   ...           ...   \n",
       "81  06/01/2009            Air France           447   \n",
       "82  07/17/2007                   Tam          3054   \n",
       "83  01/15/2009            US Airways          1549   \n",
       "84  02/12/2009   Continental Express          3407   \n",
       "85  04/10/2010      Polish Air Force          1549   \n",
       "\n",
       "                                           Last_words  \n",
       "0   Unable to make out your last message, will you...  \n",
       "1   Skipper's shot!  We've been shot. I was trying...  \n",
       "2   Have you still got the runway OK? Ah .. just b...  \n",
       "3                   I have no radar contact with you.  \n",
       "4     Not very # far off the runway. Sure as # isn't.  \n",
       "..                                                ...  \n",
       "81  Damn it, we're going to crash... This can't be...  \n",
       "82                               Oh my god, oh my god  \n",
       "83                      We're gonna be in the Hudson.  \n",
       "84                                        We're down.  \n",
       "85                                          F*ckkkkkk  \n",
       "\n",
       "[86 rows x 4 columns]"
      ]
     },
     "execution_count": 16,
     "metadata": {},
     "output_type": "execute_result"
    }
   ],
   "source": [
    "df_new['Date'] = data\n",
    "df_new"
   ]
  },
  {
   "cell_type": "code",
   "execution_count": 32,
   "id": "27e30d48",
   "metadata": {},
   "outputs": [],
   "source": [
    "#sentence node\n",
    "for i in range(len(df_new)):\n",
    "    q12 = 'create (z:sentence{date:\"' +str(df_new['Date'][i]) + '\", operator:\"' + str(df_new['Airlane'][i]) + '\", nr_flight:\"' +str(df_new['Flight_number'][i])+ '\", words:\"' +  str(df_new['Last_words'][i])+ '\"})'\n",
    "    session.run(q12)"
   ]
  },
  {
   "cell_type": "code",
   "execution_count": 33,
   "id": "b5932033",
   "metadata": {},
   "outputs": [],
   "source": [
    "#connecting words - accident\n",
    "q13 = 'MATCH (z:words) MATCH (w:accident) WHERE z.date = w.date MERGE (z)-[:WORDS_SPOKEN]->(w)'\n",
    "session.run(q13) "
   ]
  },
  {
   "cell_type": "code",
   "execution_count": 31,
   "id": "0bf26516",
   "metadata": {
    "scrolled": true
   },
   "outputs": [
    {
     "name": "stdout",
     "output_type": "stream",
     "text": [
      "Boston - Los Angeles 2842\n",
      "Boston - Los Angeles 2815\n",
      "Tenerife - Las Palmas / Tenerife - Las Palmas 583\n",
      "Tokyo - Osaka 520\n",
      "New Delhi - Dhahran / Chimkent - New Delhi 349\n",
      "Paris - London 346\n",
      "Montreal - London 329\n",
      "Riyadh - Jeddah 301\n",
      "Amsterdam - Kuala Lumpur 298\n",
      "Bandar Abbas - Dubai 290\n"
     ]
    }
   ],
   "source": [
    "#query showing on which route the most people died in total\n",
    "q14 = 'MATCH (l:flight) with l match (l) <- [:VICTIMS] - (z:died) return l.route as route, z.fatalities_passangers + z.fatalities_crew + z.fatalities_ground as sum order by sum DESC'\n",
    "nodes = session.run(q14)\n",
    "for node in nodes:\n",
    "    print(node['route'], int(node['sum']))"
   ]
  },
  {
   "cell_type": "code",
   "execution_count": 30,
   "id": "86e22174",
   "metadata": {},
   "outputs": [
    {
     "name": "stdout",
     "output_type": "stream",
     "text": [
      "Warsaw - New York City 183\n",
      "Warsaw, Poland - Smolensk Russia 96\n",
      "New York City - Warsaw 87\n",
      "Warsaw - Cracow 53\n",
      "Berlin - Warsaw 33\n",
      "Warsaw - Moscow 31\n",
      "Warsaw - Miroslawiec 20\n",
      "Warsaw, Poland - Bucharest, Romania 14\n",
      "Warsaw - Moscow 9\n",
      "Warsaw - Prague - Strasbourg - Paris 5\n",
      "Krakow - Warsaw 4\n",
      "Stockholm-Copenhagen-Warsaw 0\n"
     ]
    }
   ],
   "source": [
    "#the total number of deaths from flights that included Warsaw\n",
    "q14a = \"MATCH (l:flight) where l.route =~ '.*Warsaw.*' with l match (l) <- [:VICTIMS] - (z:died) return l.route as route, z.fatalities_passangers + z.fatalities_crew + z.fatalities_ground as sum order by sum DESC\"\n",
    "nodes = session.run(q14a)\n",
    "for node in nodes:\n",
    "    print(node['route'], int(node['sum']))"
   ]
  },
  {
   "cell_type": "code",
   "execution_count": 19,
   "id": "852e4bd6",
   "metadata": {
    "scrolled": true
   },
   "outputs": [
    {
     "name": "stdout",
     "output_type": "stream",
     "text": [
      "year: 1966 count_accident: 308\n",
      "year: 1967 count_accident: 308\n",
      "year: 1965 count_accident: 300\n",
      "year: 1964 count_accident: 283\n",
      "year: 1969 count_accident: 276\n",
      "year: 1979 count_accident: 262\n",
      "year: 1968 count_accident: 260\n",
      "year: 1978 count_accident: 255\n",
      "year: 1970 count_accident: 237\n",
      "year: 1981 count_accident: 212\n"
     ]
    }
   ],
   "source": [
    "#number of accidents in a given year\n",
    "q15 = 'match (w:accident) return right(w.date,4) as year, count(right(w.date,4)) as count_accident order by count_accident desc'\n",
    "nodes = session.run(q15)\n",
    "for node in nodes[:10]:\n",
    "    print('year:', node['year'], 'count_accident:', node['count_accident'])"
   ]
  },
  {
   "cell_type": "code",
   "execution_count": 21,
   "id": "430617b2",
   "metadata": {},
   "outputs": [
    {
     "name": "stdout",
     "output_type": "stream",
     "text": [
      "operator: Sadai airplane_type: Douglas DC-3\n",
      "operator: Finnair airplane_type: Douglas DC-3\n",
      "operator: Aerolineas Litoral Argentina airplane_type: Douglas DC-3\n",
      "operator: Lloyd Aéreo Boliviano airplane_type: Douglas DC-3\n",
      "operator: Philippine Air Lines airplane_type: Douglas DC-3\n",
      "operator: Snow Valley Ski Lines airplane_type: Douglas DC-3\n",
      "operator: Taxi Aereo de airplane_type airplane_type: Douglas DC-3\n",
      "operator: Aden Airways airplane_type: Douglas DC-3\n",
      "operator: TASSA airplane_type: Douglas DC-3\n",
      "operator: Aerolineas Abaroa airplane_type: Douglas DC-3\n"
     ]
    }
   ],
   "source": [
    "#a given type of airplane belonging to the operator\n",
    "q16 = \"MATCH (o:operator) with o match (o) <- [:BELONGS_TO] - (s:airplane {type:'Douglas DC-3'}) return o, s\"\n",
    "nodes = session.run(q16)\n",
    "for node in nodes[:10]:\n",
    "    print('operator:', node['o']['name'], 'airplane_type:', node['s']['type'])"
   ]
  },
  {
   "cell_type": "code",
   "execution_count": 23,
   "id": "cbfb9c64",
   "metadata": {
    "scrolled": true
   },
   "outputs": [
    {
     "name": "stdout",
     "output_type": "stream",
     "text": [
      "operator: Philippine Air Lines count_airplane: 10\n",
      "operator: Indian Airlines count_airplane: 9\n",
      "operator: Ethiopian Airlines count_airplane: 8\n",
      "operator: Cruzeiro count_airplane: 7\n",
      "operator: VASP count_airplane: 6\n",
      "operator: AVIANCA count_airplane: 5\n",
      "operator: KLM Royal Dutch Airlines count_airplane: 5\n",
      "operator: American Airlines count_airplane: 5\n",
      "operator: Aigle Azur count_airplane: 5\n",
      "operator: Garuda Indonesia Airlines count_airplanecount_airplane: 5\n"
     ]
    }
   ],
   "source": [
    "#how many airplane of a given type belong to the operator\n",
    "q16a = \"MATCH (o:operator) with o match (o) <- [:BELONGS_TO] - (s:airplane {type:'Douglas DC-3'}) return o.name, count(s) as count_airplane order by count_airplane desc\"\n",
    "nodes = session.run(q16a)\n",
    "for node in nodes[:10]:\n",
    "    print('operator:', node['o.name'], 'count_airplane:', node['count_airplane'])"
   ]
  },
  {
   "cell_type": "code",
   "execution_count": 27,
   "id": "bd91bada",
   "metadata": {},
   "outputs": [
    {
     "name": "stdout",
     "output_type": "stream",
     "text": [
      "operator: United Airlines place: Midway Airport, Chicago, Illinois\n",
      "operator: United Airlines place: Near Rawalpindi, Pakistan\n",
      "operator: United Airlines place: Portland, Oregon\n",
      "operator: United Airlines place: Honolulu, Hawaii\n",
      "operator: United Airlines place: Talourow Island, USSR\n",
      "operator: United Airlines place: Sioux City, Iowa\n",
      "operator: United Airlines place: Glen Burnie, Maryland\n",
      "operator: United Airlines place: Near Colorado Springs, Colorado\n",
      "operator: United Airlines place: New York City, New York\n",
      "operator: United Airlines place: Arlington, Virginia.\n",
      "operator: United Airlines place: Shanksville, Pennsylvania\n",
      "operator: Western Airlines place: Mexico City, Mexico\n"
     ]
    }
   ],
   "source": [
    "#miejsca wypadkow dla dwoch roznych operatorow\n",
    "q17 = \"MATCH (w:accident) with w match (w) <- [:WORDS_SPOKEN] - (z:sentence) where z.operator = 'United Airlines' return z.operator, w.place UNION MATCH (w:accident) with w match (w) <- [:WORDS_SPOKEN] - (z:sentence) where z.operator = 'Western Airlines' return z.operator, w.place\" \n",
    "nodes = session.run(q17)\n",
    "for node in nodes:\n",
    "    print('operator:', node['z.operator'], 'place:', node['place'])"
   ]
  },
  {
   "cell_type": "code",
   "execution_count": 29,
   "id": "678190b3",
   "metadata": {},
   "outputs": [
    {
     "name": "stdout",
     "output_type": "stream",
     "text": [
      "Turku - Mariehamn 2.0\n",
      "Rosario - Buenos Aires 2.0\n",
      "Cotabato - Malabang - Iligan - Cayagan de Oro 1.0\n",
      "Kagoshima - Oita 22.0\n",
      "Buenos Aires - Lima 3.0\n",
      "Travis - Hickam - Clark 5.0\n",
      "Palma de Mallorca - Ibiza 27.0\n",
      "Dublin, Ireland - Addis Ababa 6.0\n",
      "Stockholm - Hultsfred - Halmstad - Ängelholm 12.0\n",
      "Rome - Athens 23.0\n"
     ]
    }
   ],
   "source": [
    "q18 = 'match (z:died) - [:VICTIMS] -> (l:flight) <- [:WERE_FLYING] - (p:aboard) where z.fatalities_passangers + z.fatalities_crew < p.passangers + p.crew and p.passangers + p.crew > 0 and z.fatalities_passangers + z.fatalities_crew > 0 return l, p, z'\n",
    "nodes = session.run(q18)\n",
    "for node in nodes[:10]:\n",
    "    print(node['l']['route'],  node['p']['passangers'] + node['p']['crew'] - node['z']['fatalities_passangers'] - node['z']['fatalities_crew'])"
   ]
  },
  {
   "cell_type": "code",
   "execution_count": 276,
   "id": "6ec32014",
   "metadata": {
    "scrolled": true
   },
   "outputs": [
    {
     "name": "stdout",
     "output_type": "stream",
     "text": [
      "1639\n"
     ]
    }
   ],
   "source": [
    "q18a = 'match (z:died) - [:VICTIMS] -> (l:flight) <- [:WERE_FLYING] - (p:aboard) where z.fatalities_crew + z.fatalities_passangers < p.passangers + p.crew and p.passangers + p.crew > 0 and z.fatalities_passangers + z.fatalities_crew > 0 return count(l) as how_many'\n",
    "nodes = session.run(q18a)\n",
    "for node in nodes:\n",
    "    print(node['how_many'])"
   ]
  },
  {
   "cell_type": "code",
   "execution_count": 279,
   "id": "ff8ee3d9",
   "metadata": {},
   "outputs": [
    {
     "data": {
      "text/plain": [
       "<neo4j._sync.work.result.Result at 0x1cbf7145a80>"
      ]
     },
     "execution_count": 279,
     "metadata": {},
     "output_type": "execute_result"
    }
   ],
   "source": [
    "#before index\n",
    "q19 = \"profile MATCH (o:operator) with o match (o) <- [:BELONGS_TO] - (s:airplane {type:'Douglas DC-3'}) return o, s\"\n",
    "session.run(q19)"
   ]
  },
  {
   "cell_type": "code",
   "execution_count": 307,
   "id": "35f761e9",
   "metadata": {
    "scrolled": true
   },
   "outputs": [
    {
     "data": {
      "text/plain": [
       "<neo4j._sync.work.result.Result at 0x1cbf677f9d0>"
      ]
     },
     "execution_count": 307,
     "metadata": {},
     "output_type": "execute_result"
    }
   ],
   "source": [
    "#add index\n",
    "q20 = 'create index ind1 for (s:airplane) on (s.type)'\n",
    "session.run(q20)"
   ]
  },
  {
   "cell_type": "code",
   "execution_count": 291,
   "id": "535f3bf7",
   "metadata": {},
   "outputs": [
    {
     "data": {
      "text/plain": [
       "<neo4j._sync.work.result.Result at 0x1cbf6571d50>"
      ]
     },
     "execution_count": 291,
     "metadata": {},
     "output_type": "execute_result"
    }
   ],
   "source": [
    "#after index\n",
    "q21 = \"profile MATCH (o:operator) with o match (o) <- [:BELONGS_TO] - (s:airplane {type:'Douglas DC-3'}) return o, s\"\n",
    "session.run(q21)"
   ]
  },
  {
   "cell_type": "code",
   "execution_count": 292,
   "id": "6dc54010",
   "metadata": {},
   "outputs": [
    {
     "data": {
      "text/plain": [
       "<neo4j._sync.work.result.Result at 0x1cbf6517f40>"
      ]
     },
     "execution_count": 292,
     "metadata": {},
     "output_type": "execute_result"
    }
   ],
   "source": [
    "#before index\n",
    "q22 = \"profile MATCH (w:accident) with w match (w) <- [:WORDS_SPOKEN] - (z:sentence) where z.operator = 'United Airlines' return z.operator, w.place UNION MATCH (w:accident) with w match (w) <- [:WORDS_SPOKEN] - (z:sentence) where z.operator = 'Western Airlines' return z.operator, w.place\"\n",
    "session.run(q22)"
   ]
  },
  {
   "cell_type": "code",
   "execution_count": 304,
   "id": "6789b9ed",
   "metadata": {},
   "outputs": [
    {
     "data": {
      "text/plain": [
       "<neo4j._sync.work.result.Result at 0x1cbf6912ef0>"
      ]
     },
     "execution_count": 304,
     "metadata": {},
     "output_type": "execute_result"
    }
   ],
   "source": [
    "#add index\n",
    "q23 = 'create index ind2 for (z:sentence) on (z.operator)'\n",
    "session.run(q23)"
   ]
  },
  {
   "cell_type": "code",
   "execution_count": 295,
   "id": "96acff9e",
   "metadata": {},
   "outputs": [
    {
     "data": {
      "text/plain": [
       "<neo4j._sync.work.result.Result at 0x1cbf6572d70>"
      ]
     },
     "execution_count": 295,
     "metadata": {},
     "output_type": "execute_result"
    }
   ],
   "source": [
    "#after index\n",
    "q22 = \"profile MATCH (w:accident) with w match (w) <- [:WORDS_SPOKEN] - (z:sentence) where z.operator = 'United Airlines' return z.operator, w.place UNION MATCH (w:accident) with w match (w) <- [:WORDS_SPOKEN] - (z:sentence) where z.operator = 'Western Airlines' return z.operator, w.place\"\n",
    "session.run(q22)"
   ]
  },
  {
   "cell_type": "code",
   "execution_count": 308,
   "id": "7d0adfc6",
   "metadata": {},
   "outputs": [
    {
     "name": "stdout",
     "output_type": "stream",
     "text": [
      "<Record id=2 name='ind1' state='ONLINE' populationPercent=100.0 uniqueness='NONUNIQUE' type='BTREE' entityType='NODE' labelsOrTypes=['samolot'] properties=['typ'] indexProvider='native-btree-1.0'>\n",
      "<Record id=1 name='ind2' state='ONLINE' populationPercent=100.0 uniqueness='NONUNIQUE' type='BTREE' entityType='NODE' labelsOrTypes=['zdanie'] properties=['operator'] indexProvider='native-btree-1.0'>\n"
     ]
    }
   ],
   "source": [
    "#shows all superimposed indexes\n",
    "q23 = 'show indexes'\n",
    "nodes = session.run(q23)\n",
    "for node in nodes:\n",
    "    print(node)"
   ]
  },
  {
   "cell_type": "code",
   "execution_count": 312,
   "id": "ed93314a",
   "metadata": {},
   "outputs": [
    {
     "data": {
      "text/plain": [
       "<neo4j._sync.work.result.Result at 0x1cbf677fb50>"
      ]
     },
     "execution_count": 312,
     "metadata": {},
     "output_type": "execute_result"
    }
   ],
   "source": [
    "#procedure\n",
    "q24 = \"call apoc.custom.asProcedure('passangers_sum','MATCH (l:lot {route: $atr1}) <- [:WERE_FLYING] - (p:aboard) return $atr1, p.crew + p.passangers as passangers_sum', 'read', [['passangers_sum', 'float']],[['atr1', 'string']])\"\n",
    "session.run(q24)"
   ]
  },
  {
   "cell_type": "code",
   "execution_count": 313,
   "id": "86b9e32f",
   "metadata": {},
   "outputs": [
    {
     "name": "stdout",
     "output_type": "stream",
     "text": [
      "129.0\n"
     ]
    }
   ],
   "source": [
    "q25 = 'call custom.passangers_sum(\"Stockholm-Copenhagen-Warsaw\")'\n",
    "nodes = session.run(q25)\n",
    "for node in nodes:\n",
    "    print(node['passangers_sum'])"
   ]
  },
  {
   "cell_type": "code",
   "execution_count": 314,
   "id": "ba389fb8",
   "metadata": {},
   "outputs": [
    {
     "name": "stdout",
     "output_type": "stream",
     "text": [
      "92.0\n",
      "65.0\n"
     ]
    }
   ],
   "source": [
    "q26 = 'call custom.passangers_sum(\"Boston - Los Angeles\")'\n",
    "nodes = session.run(q26)\n",
    "for node in nodes:\n",
    "    print(node['passangers_sum'])"
   ]
  }
 ],
 "metadata": {
  "kernelspec": {
   "display_name": "Python 3 (ipykernel)",
   "language": "python",
   "name": "python3"
  },
  "language_info": {
   "codemirror_mode": {
    "name": "ipython",
    "version": 3
   },
   "file_extension": ".py",
   "mimetype": "text/x-python",
   "name": "python",
   "nbconvert_exporter": "python",
   "pygments_lexer": "ipython3",
   "version": "3.10.9"
  }
 },
 "nbformat": 4,
 "nbformat_minor": 5
}
